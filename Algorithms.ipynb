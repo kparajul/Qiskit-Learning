{
 "cells": [
  {
   "cell_type": "code",
   "execution_count": 16,
   "id": "ba07a26e",
   "metadata": {},
   "outputs": [],
   "source": [
    "#Deutsch's Algorithm\n",
    "\n",
    "# If f(x) is a function that takes a bit string x and returns a bit string of the same length, then Deutsch's algorithm can be used to determine whether f is constant or balanced.\n",
    "# The algorithm uses a quantum computer to evaluate f(x) in superposition, allowing it to determine the nature of f with only one evaluation.\n",
    "# Classical algorithms would require two evaluations to determine if f is constant or balanced.\n",
    "# Let's try implementing Deutsch's algorithm using Qiskit.\n",
    "\n",
    "# Doich - pronounciation: /dɔɪtʃ/"
   ]
  },
  {
   "cell_type": "code",
   "execution_count": 17,
   "id": "04a45595",
   "metadata": {},
   "outputs": [],
   "source": [
    "from qiskit import *\n",
    "from qiskit_aer import AerSimulator\n",
    "from qiskit.quantum_info import Statevector\n",
    "from qiskit.visualization import plot_histogram\n",
    "from matplotlib import pyplot as plt"
   ]
  },
  {
   "cell_type": "code",
   "execution_count": 21,
   "id": "8b8c1674",
   "metadata": {},
   "outputs": [
    {
     "name": "stdout",
     "output_type": "stream",
     "text": [
      "{'0': 1024}\n",
      "{'1': 1024}\n"
     ]
    }
   ],
   "source": [
    "# f(x) is a balanced function\n",
    "\n",
    "def deutsch_algorithm(function_type):\n",
    "    # Create a quantum circuit with 2 qubits and 1 classical bit\n",
    "    circuit = QuantumCircuit(2, 1)\n",
    "\n",
    "    # Initialize the second qubit to |1> state\n",
    "    circuit.x(1)\n",
    "\n",
    "    # Apply Hadamard gate to both qubits\n",
    "    circuit.h([0, 1])\n",
    "\n",
    "    if function_type == \"constant\":\n",
    "        # Apply a constant function (e.g., f(x) = 0)\n",
    "        pass\n",
    "    elif function_type == \"balanced\":\n",
    "        # Apply a balanced function (e.g., f(x) = x XOR 1)\n",
    "        circuit.cx(0, 1)\n",
    "    circuit.h(0) #hadamard to the first qubit again\n",
    "    # Measure the first qubit\n",
    "    circuit.measure(0, 0)\n",
    "\n",
    "    # Use the AER simulator to run the circuit\n",
    "    simulator = AerSimulator()\n",
    "    cir = transpile(circuit, simulator)\n",
    "    res = simulator.run(cir, shots=1024).result()\n",
    "    counts = res.get_counts()\n",
    "    print(counts)\n",
    "\n",
    "\n",
    "deutsch_algorithm(\"constant\")\n",
    "deutsch_algorithm(\"balanced\")"
   ]
  },
  {
   "cell_type": "code",
   "execution_count": 22,
   "id": "fae3fea4",
   "metadata": {},
   "outputs": [
    {
     "name": "stdout",
     "output_type": "stream",
     "text": [
      "{'0111111111': 121, '0000000000': 121, '1000000000': 134, '1111111111': 124}\n"
     ]
    }
   ],
   "source": [
    "# Hadamard gate AND CNOT gate loop\n",
    "# Here, I am just playing around and creating an algorithm that applies a Hadamard gate to the first qubit and a CNOT gate to the rest of the qubits in a loop.\n",
    "# The Hadamard gate creates superposition, and the CNOT gate entangles the qubits.\n",
    "# When I measure, I expect to see a distribution of results that reflects the superposition and entanglement created by the gates.\n",
    "\n",
    "#later I randomly initialized the last qubit to |1> state and applied a Hadamard gate to it.\n",
    "# It has no real purpose, just getting used to the syntax of Qiskit and how to create a circuit.\n",
    "\n",
    "def hadamardLoop(n):\n",
    "    qc = QuantumCircuit(n,n)\n",
    "    qc.h(0)\n",
    "    qc.x(n-1) # Initialize the last qubit to |1> state\n",
    "    qc.h(n-1) # Apply Hadamard gate to the last qubit\n",
    "    a = 0\n",
    "    for i in range (n-1):\n",
    "        qc.cx(a, i+1)\n",
    "    qc.measure(range(n), range(n))\n",
    "    return qc\n",
    "\n",
    "\n",
    "qc = hadamardLoop(10)\n",
    "simulator = AerSimulator()\n",
    "compiledCircuit = transpile(qc, simulator)\n",
    "result = simulator.run(compiledCircuit, shots = 500).result()\n",
    "counts = result.get_counts()\n",
    "print(counts)"
   ]
  },
  {
   "cell_type": "code",
   "execution_count": null,
   "id": "f2534b2b",
   "metadata": {},
   "outputs": [],
   "source": []
  }
 ],
 "metadata": {
  "kernelspec": {
   "display_name": "qiskit",
   "language": "python",
   "name": "python3"
  },
  "language_info": {
   "codemirror_mode": {
    "name": "ipython",
    "version": 3
   },
   "file_extension": ".py",
   "mimetype": "text/x-python",
   "name": "python",
   "nbconvert_exporter": "python",
   "pygments_lexer": "ipython3",
   "version": "3.13.2"
  }
 },
 "nbformat": 4,
 "nbformat_minor": 5
}
