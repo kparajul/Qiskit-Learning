{
 "cells": [
  {
   "cell_type": "code",
   "execution_count": null,
   "id": "ba07a26e",
   "metadata": {},
   "outputs": [],
   "source": [
    "#Deutsch's Algorithm\n",
    "\n",
    "# If f(x) is a function that takes a bit string x and returns a bit string of the same length, then Deutsch's algorithm can be used to determine whether f is constant or balanced.\n",
    "# The algorithm uses a quantum computer to evaluate f(x) in superposition, allowing it to determine the nature of f with only one evaluation.\n",
    "# Classical algorithms would require two evaluations to determine if f is constant or balanced.\n",
    "# Let's try implementing Deutsch's algorithm using Qiskit.\n",
    "\n",
    "# Doich - pronounciation: /dɔɪtʃ/"
   ]
  },
  {
   "cell_type": "code",
   "execution_count": 11,
   "id": "04a45595",
   "metadata": {},
   "outputs": [],
   "source": [
    "from qiskit import *\n",
    "from qiskit_aer import AerSimulator\n",
    "from qiskit.quantum_info import Statevector\n",
    "from qiskit.visualization import plot_histogram\n",
    "from matplotlib import pyplot as plt"
   ]
  },
  {
   "cell_type": "code",
   "execution_count": 15,
   "id": "8b8c1674",
   "metadata": {},
   "outputs": [
    {
     "name": "stdout",
     "output_type": "stream",
     "text": [
      "{'1': 1024}\n"
     ]
    }
   ],
   "source": [
    "# f(x) = x\n",
    "\n",
    "def deutsch_algorithm():\n",
    "    # Create a quantum circuit with 2 qubits and 1 classical bit\n",
    "    circuit = QuantumCircuit(2, 1)\n",
    "\n",
    "    # Initialize the second qubit to |1> state\n",
    "    circuit.x(1)\n",
    "\n",
    "    # Apply Hadamard gate to both qubits\n",
    "    circuit.h([0, 1])\n",
    "    circuit.cx(0,1) # Apply CNOT gate as q0 as control and q1 as target\n",
    "    circuit.h(0) #hadamard to the first qubit again\n",
    "    circuit.measure(0, 0)\n",
    "    # Measure the first qubit\n",
    "    circuit.measure(0, 0)\n",
    "\n",
    "    # Use the AER simulator to run the circuit\n",
    "    simulator = AerSimulator()\n",
    "    cir = transpile(circuit, simulator)\n",
    "    res = simulator.run(cir, shots=1024).result()\n",
    "    counts = res.get_counts()\n",
    "    print(counts)\n",
    "\n",
    "\n",
    "deutsch_algorithm()"
   ]
  },
  {
   "cell_type": "code",
   "execution_count": null,
   "id": "fae3fea4",
   "metadata": {},
   "outputs": [],
   "source": []
  }
 ],
 "metadata": {
  "kernelspec": {
   "display_name": "qiskit",
   "language": "python",
   "name": "python3"
  },
  "language_info": {
   "codemirror_mode": {
    "name": "ipython",
    "version": 3
   },
   "file_extension": ".py",
   "mimetype": "text/x-python",
   "name": "python",
   "nbconvert_exporter": "python",
   "pygments_lexer": "ipython3",
   "version": "3.13.2"
  }
 },
 "nbformat": 4,
 "nbformat_minor": 5
}
