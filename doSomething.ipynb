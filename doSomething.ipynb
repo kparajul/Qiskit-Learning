{
 "cells": [
  {
   "cell_type": "code",
   "execution_count": 9,
   "id": "08eda451",
   "metadata": {},
   "outputs": [],
   "source": [
    "from qiskit import *\n",
    "from qiskit.quantum_info import Statevector\n",
    "from qiskit.visualization import plot_histogram\n",
    "from qiskit_aer import AerSimulator, StatevectorSimulator"
   ]
  },
  {
   "cell_type": "code",
   "execution_count": 26,
   "id": "8e41c444",
   "metadata": {},
   "outputs": [
    {
     "name": "stdout",
     "output_type": "stream",
     "text": [
      "{'1111111111': 253, '0000000000': 247}\n"
     ]
    }
   ],
   "source": [
    "# Hadamard gate loop\n",
    "def hadamardLoop(n):\n",
    "    qc = QuantumCircuit(n,n)\n",
    "    qc.h(0)\n",
    "    for i in range (n-1):\n",
    "        qc.cx(0, i+1)\n",
    "    qc.measure(range(n), range(n))\n",
    "    return qc\n",
    "\n",
    "\n",
    "qc = hadamardLoop(10)\n",
    "simulator = AerSimulator()\n",
    "compiledCircuit = transpile(qc, simulator)\n",
    "result = simulator.run(compiledCircuit, shots = 500).result()\n",
    "counts = result.get_counts()\n",
    "print(counts)"
   ]
  },
  {
   "cell_type": "code",
   "execution_count": 24,
   "id": "31cbe190",
   "metadata": {},
   "outputs": [
    {
     "name": "stdout",
     "output_type": "stream",
     "text": [
      "{'1': 2}\n"
     ]
    }
   ],
   "source": [
    "# Flipping bits\n",
    "\n",
    "qr = QuantumRegister(1)\n",
    "cr = ClassicalRegister(1)\n",
    "circuit = QuantumCircuit(qr, cr)\n",
    "\n",
    "# X gate, acts like a classical NOT gate\n",
    "circuit.x(qr)\n",
    "\n",
    "# circuit.y(qr)\n",
    "# circuit.z(qr)\n",
    "circuit.measure(qr, cr)\n",
    "\n",
    "simulator = AerSimulator()\n",
    "compiledCircuit = transpile(circuit, simulator)\n",
    "result = simulator.run(compiledCircuit, shots = 2).result()\n",
    "counts = result.get_counts()\n",
    "print(counts)"
   ]
  },
  {
   "cell_type": "code",
   "execution_count": null,
   "id": "79d52f94",
   "metadata": {},
   "outputs": [
    {
     "name": "stdout",
     "output_type": "stream",
     "text": [
      "{'101': 1024}\n"
     ]
    }
   ],
   "source": [
    "# CX gate\n",
    "\n",
    "qr = QuantumRegister(3)\n",
    "cr = ClassicalRegister(3)\n",
    "circuit = QuantumCircuit(qr, cr)\n",
    "\n",
    "# CX gate applies X gate to the socond qbit if the control qbit is 1\n",
    "circuit.x(qr)\n",
    "circuit.cx(qr[0], qr[1])\n",
    "circuit.measure(qr, cr)\n",
    "\n",
    "simulator = AerSimulator()\n",
    "compiledCircuit = transpile(circuit, simulator)\n",
    "result = simulator.run(compiledCircuit, shots = 1024).result()\n",
    "counts = result.get_counts()\n",
    "print(counts)"
   ]
  },
  {
   "cell_type": "code",
   "execution_count": null,
   "id": "c2a535f7",
   "metadata": {},
   "outputs": [],
   "source": []
  }
 ],
 "metadata": {
  "kernelspec": {
   "display_name": "qiskit",
   "language": "python",
   "name": "python3"
  },
  "language_info": {
   "codemirror_mode": {
    "name": "ipython",
    "version": 3
   },
   "file_extension": ".py",
   "mimetype": "text/x-python",
   "name": "python",
   "nbconvert_exporter": "python",
   "pygments_lexer": "ipython3",
   "version": "3.13.2"
  }
 },
 "nbformat": 4,
 "nbformat_minor": 5
}
