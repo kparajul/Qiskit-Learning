{
 "cells": [
  {
   "cell_type": "code",
   "execution_count": 3,
   "id": "initial_id",
   "metadata": {
    "collapsed": true
   },
   "outputs": [
    {
     "data": {
      "text/plain": [
       "<qiskit.circuit.instructionset.InstructionSet at 0x119e23d90>"
      ]
     },
     "execution_count": 3,
     "metadata": {},
     "output_type": "execute_result"
    }
   ],
   "source": [
    "from qiskit import *\n",
    "from qiskit_aer import AerSimulator\n",
    "from qiskit.quantum_info import Statevector\n",
    "from qiskit.visualization import plot_histogram\n",
    "\n",
    "# Here we know that this is a qbit initialized at state 0\n",
    "# Classical register is needed to store the measured position of the qbit when it collapses\n",
    "quantumRegister = QuantumRegister(1)\n",
    "classicalRegister = ClassicalRegister(1)\n",
    "circuit = QuantumCircuit(quantumRegister, classicalRegister)\n",
    "\n",
    "#Hadamard gate\n",
    "circuit.h(quantumRegister)\n",
    "\n",
    "#This measures the qbit and stores it in the classical register\n",
    "circuit.measure(quantumRegister, classicalRegister)"
   ]
  },
  {
   "cell_type": "code",
   "execution_count": 4,
   "id": "95fffe86",
   "metadata": {},
   "outputs": [
    {
     "data": {
      "image/png": "[encoded data removed]",
      "text/plain": [
       "<Figure size 640x480 with 1 Axes>"
      ]
     },
     "execution_count": 4,
     "metadata": {},
     "output_type": "execute_result"
    }
   ],
   "source": [
    "simulator = AerSimulator()\n",
    "compiledCircuit = transpile(circuit, simulator)\n",
    "result = simulator.run(compiledCircuit, shots = 1024).result()\n",
    "counts = result.get_counts()\n",
    "plot_histogram(counts)\n",
    "#we get all 0's because we haven't applied any quantum operations to the qbit\n"
   ]
  },
  {
   "cell_type": "code",
   "execution_count": null,
   "id": "7cd5917b",
   "metadata": {},
   "outputs": [],
   "source": []
  }
 ],
 "metadata": {
  "kernelspec": {
   "display_name": "qiskit",
   "language": "python",
   "name": "python3"
  },
  "language_info": {
   "codemirror_mode": {
    "name": "ipython",
    "version": 3
   },
   "file_extension": ".py",
   "mimetype": "text/x-python",
   "name": "python",
   "nbconvert_exporter": "python",
   "pygments_lexer": "ipython3",
   "version": "3.13.2"
  }
 },
 "nbformat": 4,
 "nbformat_minor": 5
}
